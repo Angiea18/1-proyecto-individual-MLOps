{
 "cells": [
  {
   "cell_type": "markdown",
   "metadata": {},
   "source": [
    "### Importamos las librerias"
   ]
  },
  {
   "cell_type": "code",
   "execution_count": 205,
   "metadata": {},
   "outputs": [],
   "source": [
    "import ast\n",
    "import pandas as pd\n",
    "from fastapi import FastAPI "
   ]
  },
  {
   "cell_type": "markdown",
   "metadata": {},
   "source": [
    "### Accedemos al Dataset"
   ]
  },
  {
   "cell_type": "code",
   "execution_count": 206,
   "metadata": {},
   "outputs": [],
   "source": [
    "games = []\n",
    "with open('steam_games.json') as f: #permite acceder al contenido del archivo JSON\n",
    "    for line in f.readlines():\n",
    "        games.append(ast.literal_eval(line)) #convirtir cada línea del archivo JSON en un diccionario de Python y añadiéndolo a la lista games\n",
    "\n",
    "df = pd.DataFrame(games) # carga los datos en un DataFrame de pandas"
   ]
  },
  {
   "cell_type": "code",
   "execution_count": 209,
   "metadata": {},
   "outputs": [],
   "source": [
    "# Cambiar el dtype de la columna'release_date' ya que contiene fechas en formato de texto\n",
    "df['release_date'] = pd.to_datetime(df['release_date'], errors='coerce')"
   ]
  },
  {
   "cell_type": "code",
   "execution_count": 210,
   "metadata": {},
   "outputs": [],
   "source": [
    "#Cambiar el dtype de la columna 'metascore' ya que contiene puntajes en formato de texto\n",
    "df['metascore'] = pd.to_numeric(df['metascore'], errors='coerce')"
   ]
  },
  {
   "cell_type": "markdown",
   "metadata": {},
   "source": [
    "### Creamos las funciones para la API"
   ]
  },
  {
   "cell_type": "code",
   "execution_count": 184,
   "metadata": {},
   "outputs": [],
   "source": [
    "# Indicamos título y descripción de la API\n",
    "app = FastAPI(title='PI N°1 (MLOps) -Angie Arango Zapata DTS13')"
   ]
  },
  {
   "cell_type": "code",
   "execution_count": 185,
   "metadata": {},
   "outputs": [],
   "source": [
    "# Endpoint 1: Géneros más repetidos por año\n",
    "@app.get('/ Genero')\n",
    "def genero(año: str):\n",
    "    # Filtrar el DataFrame por el año proporcionado\n",
    "    df_filtrado = df[df['release_date'].dt.year == int(año)]\n",
    "    \n",
    "    # Obtener una lista con todos los géneros para el año dado\n",
    "    generos_list = df_filtrado['genres'].explode().tolist()\n",
    "\n",
    "    # Calcular el conteo de cada género en la lista\n",
    "    generos_count = pd.Series(generos_list).value_counts()\n",
    "\n",
    "    # Obtener los 5 géneros más vendidos en orden correspondiente\n",
    "    generos_mas_repetidos = generos_count.nlargest(5).to_dict()\n",
    "\n",
    "    return generos_mas_repetidos"
   ]
  },
  {
   "cell_type": "code",
   "execution_count": 192,
   "metadata": {},
   "outputs": [],
   "source": [
    "# Endpoint 2: Juegos lanzados en un año\n",
    "@app.get('/ Juegos')\n",
    "def juegos(año: str):\n",
    "    # Filtra los datos por el año especificado\n",
    "    df_filtrado = df[df['release_date'].dt.year == int(año)]\n",
    "\n",
    "    # Obtiene la lista de juegos lanzados en el año\n",
    "    juegos_lanzados = df_filtrado['title'].tolist()\n",
    "\n",
    "    return juegos_lanzados"
   ]
  },
  {
   "cell_type": "code",
   "execution_count": 187,
   "metadata": {},
   "outputs": [],
   "source": [
    "# Endpoint 3: Specs más comunes por año\n",
    "@app.get('/ Specs')\n",
    "def specs(año: str):\n",
    "    # Filtrar el DataFrame por el año proporcionado\n",
    "    df_filtrado = df[df['release_date'].dt.year == int(año)]\n",
    "    \n",
    "    # Obtener una lista con todas las especificaciones para el año dado\n",
    "    specs_list = df_filtrado['specs'].explode().tolist()\n",
    "\n",
    "    # Calcular el conteo de cada especificación en la lista\n",
    "    specs_count = pd.Series(specs_list).value_counts()\n",
    "\n",
    "    # Obtener las 5 especificaciones más comunes en orden correspondiente\n",
    "    top_5_specs = specs_count.nlargest(5).to_dict()\n",
    "\n",
    "    return top_5_specs"
   ]
  },
  {
   "cell_type": "code",
   "execution_count": 188,
   "metadata": {},
   "outputs": [],
   "source": [
    "# Endpoint 4: Cantidad de juegos con early access en un año\n",
    "@app.get('/ Earlyaccess')\n",
    "def earlyaccess(año: str):\n",
    "    #Filtrar los datos por el año especificado y por juegos con early access\n",
    "    df_filtrado = df[(df['release_date'].dt.year == int(año)) & (df['early_access'] == True)]\n",
    "\n",
    "    #Contar la cantidad de juegos con early access en el año especificado\n",
    "    cantidad_juegos_early_access = len(df_filtrado)\n",
    "\n",
    "    return cantidad_juegos_early_access"
   ]
  },
  {
   "cell_type": "code",
   "execution_count": 189,
   "metadata": {},
   "outputs": [],
   "source": [
    "# Endpoint 5: Análisis de sentimiento por año\n",
    "@app.get('/ Sentimient')\n",
    "def sentiment(año: str):\n",
    "    # Filtrar los datos por el año especificado\n",
    "    df_filtrado = df[df['release_date'].dt.year == int(año)]\n",
    "\n",
    "    # Contar la cantidad de registros que cumplen con cada análisis de sentimiento\n",
    "    sentimient_counts = df_filtrado['sentiment'].value_counts()\n",
    "\n",
    "    # Convertir la serie de conteo en un diccionario\n",
    "    sentimient_dict = sentimient_counts.to_dict()\n",
    "\n",
    "    # Eliminar sentimientos que no están en la lista mencionada\n",
    "    sentimient_valid = [\"Mixed\", \"Positive\", \"Very Positive\", \"Mostly Positive\",\n",
    "                            \"Negative\", \"Very Negative\", \"Mostly Negative\", \"Overwhelmingly Positive\"]\n",
    "    sentimient_dict = {sentimient: count for sentimient, count in sentimient_dict.items() if sentimient in sentimient_valid}\n",
    "\n",
    "     # Verificar si el diccionario está vacío\n",
    "    if not sentimient_dict:\n",
    "        return \"Sin registros\"\n",
    "\n",
    "    return sentimient_dict"
   ]
  },
  {
   "cell_type": "code",
   "execution_count": 190,
   "metadata": {},
   "outputs": [],
   "source": [
    "# Endpoint 6: Top 5 juegos con mayor metascore por año\n",
    "@app.get('/ Metascore')\n",
    "def metascore(año: str):\n",
    "    #Filtrar los datos por el año especificado y ordena por metascore de forma descendente\n",
    "    df_filtrado = df[df['release_date'].dt.year == int(año)].sort_values(by='metascore', ascending=False)\n",
    "\n",
    "    #Seleccionar los 5 juegos con mayor metascore y obtiene su información\n",
    "    top_juegos_metascore = df_filtrado.head(5)[['title', 'metascore']].to_dict(orient='records')\n",
    "\n",
    "    return top_juegos_metascore"
   ]
  }
 ],
 "metadata": {
  "kernelspec": {
   "display_name": "Python 3",
   "language": "python",
   "name": "python3"
  },
  "language_info": {
   "codemirror_mode": {
    "name": "ipython",
    "version": 3
   },
   "file_extension": ".py",
   "mimetype": "text/x-python",
   "name": "python",
   "nbconvert_exporter": "python",
   "pygments_lexer": "ipython3",
   "version": "3.10.11"
  },
  "orig_nbformat": 4
 },
 "nbformat": 4,
 "nbformat_minor": 2
}
